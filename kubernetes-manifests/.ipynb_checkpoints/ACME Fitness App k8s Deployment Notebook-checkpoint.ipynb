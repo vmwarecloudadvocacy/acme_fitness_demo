{
 "cells": [
  {
   "cell_type": "markdown",
   "metadata": {},
   "source": [
    "# ACMEFIT K8s\n",
    "\n",
    "This repo contains a Polyglot demo application comprised of (presently) 6 microservices and 4 datastores.\n",
    "\n",
    "The contents here are the necessary YAML files to deploy the ACMEFIT application in a kubernetes cluster.\n",
    "\n",
    "This app is developed by team behind www.cloudjourney.io\n",
    "\n",
    "The current version of the application passes JSON Web Tokens (JWT) for authentication on certain API calls. The application will not work as expected if the `users` service is not present to issue / authenticate these tokens.\n",
    "\n",
    "## Datastore Dependent Services\n",
    "\n",
    "This section covers the deployment of the datastore dependent microservices. It is recommended to deploy these services first.\n",
    "\n",
    "### Cart Service\n",
    "\n",
    "Before deploying the cart datastore (Redis) and cart service please add a secret for the service to use in authenticating with the cache.\n",
    "*Note: Please replace 'value' in the command below with the desired password text. Changing the name of the secret object or the 'password' key may cause deployment issues*\n"
   ]
  },
  {
   "cell_type": "code",
   "execution_count": 1,
   "metadata": {},
   "outputs": [
    {
     "name": "stdout",
     "output_type": "stream",
     "text": [
      "Error from server (AlreadyExists): secrets \"cart-redis-pass\" already exists\r\n"
     ]
    }
   ],
   "source": [
    "!kubectl create secret generic cart-redis-pass --from-literal=password=VMware1!VMware1!\n"
   ]
  },
  {
   "cell_type": "markdown",
   "metadata": {},
   "source": [
    "Once the secret object is created, deploy the redis cache and cart service:\n"
   ]
  },
  {
   "cell_type": "code",
   "execution_count": 2,
   "metadata": {},
   "outputs": [
    {
     "name": "stdout",
     "output_type": "stream",
     "text": [
      "service/cart-redis created\n",
      "deployment.apps/cart-redis created\n",
      "service/cart created\n",
      "deployment.apps/cart created\n"
     ]
    }
   ],
   "source": [
    "!kubectl apply -f cart-redis-total.yaml\n",
    "!kubectl apply -f cart-total.yaml\n"
   ]
  },
  {
   "cell_type": "markdown",
   "metadata": {},
   "source": [
    "### Catalog Service\n",
    "\n",
    "Before deploying the catalog datastore (mongo) and catalog service please add a secret for the service to use in authenticating with the cache.\n",
    "*Note: Please replace 'value' in the command below with the desired password text. Changing the name of the secret object or the 'password' key may cause deployment issues*"
   ]
  },
  {
   "cell_type": "code",
   "execution_count": 4,
   "metadata": {},
   "outputs": [
    {
     "name": "stdout",
     "output_type": "stream",
     "text": [
      "Error from server (AlreadyExists): secrets \"catalog-mongo-pass\" already exists\r\n"
     ]
    }
   ],
   "source": [
    "!kubectl create secret generic catalog-mongo-pass --from-literal=password=VMware1!"
   ]
  },
  {
   "cell_type": "markdown",
   "metadata": {},
   "source": [
    "Run the following command to initialize the catalog database with items:"
   ]
  },
  {
   "cell_type": "code",
   "execution_count": 5,
   "metadata": {},
   "outputs": [
    {
     "name": "stdout",
     "output_type": "stream",
     "text": [
      "Error from server (AlreadyExists): error when creating \"catalog-db-initdb-configmap.yaml\": configmaps \"catalog-initdb-config\" already exists\r\n"
     ]
    }
   ],
   "source": [
    "!kubectl create -f catalog-db-initdb-configmap.yaml\n"
   ]
  },
  {
   "cell_type": "markdown",
   "metadata": {},
   "source": [
    "Finally, deploy the mongo instance and catalog service:\n"
   ]
  },
  {
   "cell_type": "code",
   "execution_count": 6,
   "metadata": {},
   "outputs": [
    {
     "name": "stdout",
     "output_type": "stream",
     "text": [
      "service/catalog-mongo created\n",
      "deployment.apps/catalog-mongo created\n",
      "service/catalog created\n",
      "deployment.apps/catalog created\n"
     ]
    }
   ],
   "source": [
    "!kubectl apply -f catalog-db-total.yaml\n",
    "!kubectl apply -f catalog-total.yaml"
   ]
  },
  {
   "cell_type": "code",
   "execution_count": null,
   "metadata": {},
   "outputs": [],
   "source": [
    "### Payment Service\n",
    "\n",
    "The payment service does not have an associated datastore. It can be deployed with the following command:\n"
   ]
  },
  {
   "cell_type": "code",
   "execution_count": 7,
   "metadata": {},
   "outputs": [
    {
     "name": "stdout",
     "output_type": "stream",
     "text": [
      "service/payment created\r\n",
      "deployment.apps/payment created\r\n"
     ]
    }
   ],
   "source": [
    "!kubectl apply -f payment-total.yaml\n"
   ]
  },
  {
   "cell_type": "markdown",
   "metadata": {},
   "source": [
    "NOTE: PAYMENT SERVICE MUST BE UP FIRST IN ORDER FOR ORDER SERVICE TO PROPERLY COMPLETE TRANSACTIONS\n",
    "   \n",
    "### Order Service\n",
    "\n",
    "Before deploying the orders datastore (postgres) and order service please add a secret for the service to use in authenticating with the cache.\n",
    "*Note: Please replace 'value' in the command below with the desired password text. Changing the name of the secret object or the 'password' key may cause deployment issues*\n",
    "\n",
    "Before running order please add the following secret:\n"
   ]
  },
  {
   "cell_type": "code",
   "execution_count": 8,
   "metadata": {},
   "outputs": [
    {
     "name": "stdout",
     "output_type": "stream",
     "text": [
      "secret/order-postgres-pass created\r\n"
     ]
    }
   ],
   "source": [
    "!kubectl create secret generic order-postgres-pass --from-literal=password=VMware1!\n"
   ]
  },
  {
   "cell_type": "markdown",
   "metadata": {},
   "source": [
    "Once the secret object is created, deploy the mongo instance and order service:\n"
   ]
  },
  {
   "cell_type": "code",
   "execution_count": 9,
   "metadata": {},
   "outputs": [
    {
     "name": "stdout",
     "output_type": "stream",
     "text": [
      "service/order-postgres created\n",
      "deployment.apps/order-postgres created\n",
      "service/order created\n",
      "deployment.apps/order created\n"
     ]
    }
   ],
   "source": [
    "!kubectl apply -f order-db-total.yaml\n",
    "!kubectl apply -f order-total.yaml\n"
   ]
  },
  {
   "cell_type": "markdown",
   "metadata": {},
   "source": [
    "### Users Service\n",
    "\n",
    "Before deploying the users datastore (mongo), users cache (redis) and users service please add secrets for the service to use in authenticating with the database and cache.\n",
    "*Note: Please replace 'value' in the command below with the desired password text. Changing the name of the secret object or the 'password' key may cause deployment issues*\n",
    "\n",
    "Before running order please add the following secret:\n"
   ]
  },
  {
   "cell_type": "code",
   "execution_count": 10,
   "metadata": {},
   "outputs": [
    {
     "name": "stdout",
     "output_type": "stream",
     "text": [
      "secret/users-mongo-pass created\n",
      "secret/users-redis-pass created\n"
     ]
    }
   ],
   "source": [
    "!kubectl create secret generic users-mongo-pass --from-literal=password=VMware1!\n",
    "!kubectl create secret generic users-redis-pass --from-literal=password=VMware1!\n"
   ]
  },
  {
   "cell_type": "markdown",
   "metadata": {},
   "source": [
    "Next you need to run the following to initialize the database with an initial set of users:\n"
   ]
  },
  {
   "cell_type": "code",
   "execution_count": 11,
   "metadata": {},
   "outputs": [
    {
     "name": "stdout",
     "output_type": "stream",
     "text": [
      "configmap/users-initdb-config created\r\n"
     ]
    }
   ],
   "source": [
    "!kubectl create -f users-db-initdb-configmap.yaml\n"
   ]
  },
  {
   "cell_type": "markdown",
   "metadata": {},
   "source": [
    "Once the secret object is created, and the users database is seeded, deploy the users database and users service:\n"
   ]
  },
  {
   "cell_type": "code",
   "execution_count": 13,
   "metadata": {},
   "outputs": [
    {
     "name": "stdout",
     "output_type": "stream",
     "text": [
      "service/users-mongo created\n",
      "deployment.apps/users-mongo created\n",
      "service/users-redis created\n",
      "deployment.apps/users-redis created\n",
      "service/users created\n",
      "deployment.apps/users created\n"
     ]
    }
   ],
   "source": [
    "!kubectl apply -f users-db-total.yaml\n",
    "!kubectl apply -f users-redis-total.yaml\n",
    "!kubectl apply -f users-total.yaml"
   ]
  },
  {
   "cell_type": "markdown",
   "metadata": {},
   "source": [
    "**_NOTE: The base set of users is preconfigured. For now, please login as one of this set (eric, dwight, han, or phoebe). The password for these users is 'vmware1!'_**\n"
   ]
  },
  {
   "cell_type": "markdown",
   "metadata": {},
   "source": [
    "## Datastore Independent Services\n",
    "\n",
    "### Front End Service\n",
    "\n",
    "The front end service also functions without an associated datastore. The manifests in this repository deploy the front end service as a NodePort type for testing purposes. If suitable for the deployment environment, the service type could be changed to 'LoadBalancer' in the `frontend-total.yaml` manifest in this repository.\n",
    "\n",
    "To deploy the front end service, run the following command:\n"
   ]
  },
  {
   "cell_type": "code",
   "execution_count": 14,
   "metadata": {},
   "outputs": [
    {
     "name": "stdout",
     "output_type": "stream",
     "text": [
      "service/frontend created\r\n",
      "deployment.apps/frontend created\r\n"
     ]
    }
   ],
   "source": [
    "!kubectl apply -f frontend-total.yaml\n"
   ]
  },
  {
   "cell_type": "markdown",
   "metadata": {},
   "source": [
    "To find the external port on which to access the site in browser, run the following command:\n"
   ]
  },
  {
   "cell_type": "code",
   "execution_count": 15,
   "metadata": {},
   "outputs": [
    {
     "name": "stdout",
     "output_type": "stream",
     "text": [
      "NAME       TYPE           CLUSTER-IP    EXTERNAL-IP   PORT(S)        AGE\r\n",
      "frontend   LoadBalancer   10.96.29.88   <pending>     80:31947/TCP   55s\r\n"
     ]
    }
   ],
   "source": [
    "!kubectl get services -l service=frontend\n"
   ]
  },
  {
   "cell_type": "markdown",
   "metadata": {},
   "source": [
    "The output of the above command should be similar to this:\n"
   ]
  },
  {
   "cell_type": "markdown",
   "metadata": {},
   "source": [
    "$ kubectl get services -l service=frontend\n",
    "NAME       TYPE       CLUSTER-IP   EXTERNAL-IP   PORT(S)          AGE\n",
    "frontend   NodePort   10.0.0.81    <none>        3000:30430/TCP   3d\n",
    "\n",
    "The external value appears under 'PORT(S)'. It is after the '3000:' and before the '/TCP' portion of the string. Appending it to the public address of the Kubernetes cluster (or loadbalancer fronting the cluster) to access the site.\n"
   ]
  },
  {
   "cell_type": "markdown",
   "metadata": {},
   "source": [
    "### Point-of-Sales\n",
    "\n",
    "Just like the front end service, the Point-of-Sales app functions without any associated datastores. The only prerequisite is that the FrontEnd service is deployed. The manifests in this repository deploy the Point-of-Sales service as a NodePort type for testing purposes. If you're running the Point-of-Sales app on a different Kubernetes cluster, or as a standalone container, you'll have to update the value of `FRONTEND_HOST` (set to `frontend.default.svc.cluster.local` by default) to match the IP or FQDN of the front end service.\n",
    "\n",
    "To deploy the service, run the following command:\n",
    "\n"
   ]
  },
  {
   "cell_type": "code",
   "execution_count": 16,
   "metadata": {},
   "outputs": [
    {
     "name": "stdout",
     "output_type": "stream",
     "text": [
      "service/pos created\r\n",
      "deployment.apps/pos created\r\n"
     ]
    }
   ],
   "source": [
    "!kubectl apply -f point-of-sales-total.yaml"
   ]
  },
  {
   "cell_type": "markdown",
   "metadata": {},
   "source": [
    "To find the external port on which to access the site in browser, run the following command:\n"
   ]
  },
  {
   "cell_type": "code",
   "execution_count": 17,
   "metadata": {},
   "outputs": [
    {
     "name": "stdout",
     "output_type": "stream",
     "text": [
      "NAME   TYPE       CLUSTER-IP      EXTERNAL-IP   PORT(S)          AGE\r\n",
      "pos    NodePort   10.101.201.68   <none>        7777:30431/TCP   34s\r\n"
     ]
    }
   ],
   "source": [
    "!kubectl get services -l service=pos\n"
   ]
  },
  {
   "cell_type": "markdown",
   "metadata": {},
   "source": [
    "The output of the above command should be similar to this:\n",
    "\n",
    "```\n",
    "$ kubectl get services -l service=frontend\n",
    "NAME       TYPE       CLUSTER-IP   EXTERNAL-IP   PORT(S)          AGE\n",
    "pos        NodePort   10.0.0.81    <none>        3000:30431/TCP   3d\n",
    "```\n",
    "\n",
    "The external value appears under 'PORT(S)'. It is after the '3000:' and before the '/TCP' portion of the string. Appending it to the public address of the Kubernetes cluster (or loadbalancer fronting the cluster) to access the Point-of-Sales app."
   ]
  },
  {
   "cell_type": "markdown",
   "metadata": {},
   "source": [
    "## Distributed Tracing\n",
    "\n",
    "**Note: Distributed tracing is advanced functionality which requires additional configuration to use successfully. Please read this section carefully before attempting to test / demonstrate tracing**\n",
    "\n",
    "The current version of the application has been augmented with distributed tracing funcionality. Each of the services has two relevant environment vairables `JAEGER_AGENT_HOST` and `JAEGER_AGENT_PORT`. Regardless of the span aggregator being used, the code expects that these two values to be populates with the hostname and port of whichever span collecter is being used *likely the jaeger agent*.\n",
    "\n",
    "To avoid issues with unresolvable hostnames, `JAEGER_AGENT_HOST` is set to `localhost` in all of the manifests in this repo. To use tracing, this value will need to be replaced. If using the `jaeger-all-in-one.yml` manifest included in this repo, this value should be changed to `<jaeger namespace>.jaeger`.\n",
    "\n",
    "It is strongly recommended that the `JAEGER_AGENT_PORT` values not be modified as the tracing library implementations for specific languages favor certain ports."
   ]
  }
 ],
 "metadata": {
  "kernelspec": {
   "display_name": "Python 3",
   "language": "python",
   "name": "python3"
  },
  "language_info": {
   "codemirror_mode": {
    "name": "ipython",
    "version": 3
   },
   "file_extension": ".py",
   "mimetype": "text/x-python",
   "name": "python",
   "nbconvert_exporter": "python",
   "pygments_lexer": "ipython3",
   "version": "3.7.5"
  }
 },
 "nbformat": 4,
 "nbformat_minor": 4
}
